{
  "nbformat": 4,
  "nbformat_minor": 0,
  "metadata": {
    "colab": {
      "provenance": [],
      "authorship_tag": "ABX9TyN4/R+RUCZnLOFhOiEhyeOa",
      "include_colab_link": true
    },
    "kernelspec": {
      "name": "python3",
      "display_name": "Python 3"
    },
    "language_info": {
      "name": "python"
    }
  },
  "cells": [
    {
      "cell_type": "markdown",
      "metadata": {
        "id": "view-in-github",
        "colab_type": "text"
      },
      "source": [
        "<a href=\"https://colab.research.google.com/github/andref03/Previsao-de-Diabetes/blob/main/base_de_dados_diabetes.ipynb\" target=\"_parent\"><img src=\"https://colab.research.google.com/assets/colab-badge.svg\" alt=\"Open In Colab\"/></a>"
      ]
    },
    {
      "cell_type": "markdown",
      "source": [
        "# **Classificação: Validação e Métricas**"
      ],
      "metadata": {
        "id": "-qKjC64UZvDs"
      }
    },
    {
      "cell_type": "markdown",
      "source": [
        "## **Criando um modelo inicial**\n",
        "\n",
        "Usarei dois modelos (para fins comparativos): árvore de decisão ou TreeClassifier; RandomForest.\n",
        "\n",
        "\n",
        "---\n",
        "\n",
        "\n",
        "* Obs.: Esta database já está com os valores normalizados, com os dados tratados.\n"
      ],
      "metadata": {
        "id": "EPTc3wxXZ2A-"
      }
    },
    {
      "cell_type": "code",
      "execution_count": 661,
      "metadata": {
        "id": "-Suf9W0JZSe1"
      },
      "outputs": [],
      "source": [
        "import pandas as pd"
      ]
    },
    {
      "cell_type": "code",
      "source": [
        "dados = pd.read_csv('/content/diabetes.csv') # caminho para o arquivo"
      ],
      "metadata": {
        "id": "DEEoyT4naABi"
      },
      "execution_count": 662,
      "outputs": []
    },
    {
      "cell_type": "code",
      "source": [
        "dados # visualização"
      ],
      "metadata": {
        "colab": {
          "base_uri": "https://localhost:8080/",
          "height": 0
        },
        "collapsed": true,
        "id": "p1EHI0braAF9",
        "outputId": "6ec60b44-f0f2-4275-fa59-b0a11095f2b8"
      },
      "execution_count": 663,
      "outputs": [
        {
          "output_type": "execute_result",
          "data": {
            "text/plain": [
              "     glicemia  pressao_sanguinea  dobra_cutane_triceps  insulina    imc  \\\n",
              "0          66                 23                    94      28.1  0.167   \n",
              "1          40                 35                   168      43.1  2.288   \n",
              "2          50                 32                    88      31.0  0.248   \n",
              "3          70                 45                   543      30.5  0.158   \n",
              "4          60                 23                   846      30.1  0.398   \n",
              "..        ...                ...                   ...       ...    ...   \n",
              "389        88                 44                   510      43.3  0.222   \n",
              "390        88                 39                   110      36.5  1.057   \n",
              "391        58                 26                    16      28.4  0.766   \n",
              "392        76                 48                   180      32.9  0.171   \n",
              "393        72                 23                   112      26.2  0.245   \n",
              "\n",
              "     diabetes  \n",
              "0           0  \n",
              "1           1  \n",
              "2           1  \n",
              "3           1  \n",
              "4           1  \n",
              "..        ...  \n",
              "389         1  \n",
              "390         1  \n",
              "391         0  \n",
              "392         0  \n",
              "393         0  \n",
              "\n",
              "[394 rows x 6 columns]"
            ],
            "text/html": [
              "\n",
              "  <div id=\"df-ac6db3b5-8102-4ed1-b7e7-5b364ff3ab84\" class=\"colab-df-container\">\n",
              "    <div>\n",
              "<style scoped>\n",
              "    .dataframe tbody tr th:only-of-type {\n",
              "        vertical-align: middle;\n",
              "    }\n",
              "\n",
              "    .dataframe tbody tr th {\n",
              "        vertical-align: top;\n",
              "    }\n",
              "\n",
              "    .dataframe thead th {\n",
              "        text-align: right;\n",
              "    }\n",
              "</style>\n",
              "<table border=\"1\" class=\"dataframe\">\n",
              "  <thead>\n",
              "    <tr style=\"text-align: right;\">\n",
              "      <th></th>\n",
              "      <th>glicemia</th>\n",
              "      <th>pressao_sanguinea</th>\n",
              "      <th>dobra_cutane_triceps</th>\n",
              "      <th>insulina</th>\n",
              "      <th>imc</th>\n",
              "      <th>diabetes</th>\n",
              "    </tr>\n",
              "  </thead>\n",
              "  <tbody>\n",
              "    <tr>\n",
              "      <th>0</th>\n",
              "      <td>66</td>\n",
              "      <td>23</td>\n",
              "      <td>94</td>\n",
              "      <td>28.1</td>\n",
              "      <td>0.167</td>\n",
              "      <td>0</td>\n",
              "    </tr>\n",
              "    <tr>\n",
              "      <th>1</th>\n",
              "      <td>40</td>\n",
              "      <td>35</td>\n",
              "      <td>168</td>\n",
              "      <td>43.1</td>\n",
              "      <td>2.288</td>\n",
              "      <td>1</td>\n",
              "    </tr>\n",
              "    <tr>\n",
              "      <th>2</th>\n",
              "      <td>50</td>\n",
              "      <td>32</td>\n",
              "      <td>88</td>\n",
              "      <td>31.0</td>\n",
              "      <td>0.248</td>\n",
              "      <td>1</td>\n",
              "    </tr>\n",
              "    <tr>\n",
              "      <th>3</th>\n",
              "      <td>70</td>\n",
              "      <td>45</td>\n",
              "      <td>543</td>\n",
              "      <td>30.5</td>\n",
              "      <td>0.158</td>\n",
              "      <td>1</td>\n",
              "    </tr>\n",
              "    <tr>\n",
              "      <th>4</th>\n",
              "      <td>60</td>\n",
              "      <td>23</td>\n",
              "      <td>846</td>\n",
              "      <td>30.1</td>\n",
              "      <td>0.398</td>\n",
              "      <td>1</td>\n",
              "    </tr>\n",
              "    <tr>\n",
              "      <th>...</th>\n",
              "      <td>...</td>\n",
              "      <td>...</td>\n",
              "      <td>...</td>\n",
              "      <td>...</td>\n",
              "      <td>...</td>\n",
              "      <td>...</td>\n",
              "    </tr>\n",
              "    <tr>\n",
              "      <th>389</th>\n",
              "      <td>88</td>\n",
              "      <td>44</td>\n",
              "      <td>510</td>\n",
              "      <td>43.3</td>\n",
              "      <td>0.222</td>\n",
              "      <td>1</td>\n",
              "    </tr>\n",
              "    <tr>\n",
              "      <th>390</th>\n",
              "      <td>88</td>\n",
              "      <td>39</td>\n",
              "      <td>110</td>\n",
              "      <td>36.5</td>\n",
              "      <td>1.057</td>\n",
              "      <td>1</td>\n",
              "    </tr>\n",
              "    <tr>\n",
              "      <th>391</th>\n",
              "      <td>58</td>\n",
              "      <td>26</td>\n",
              "      <td>16</td>\n",
              "      <td>28.4</td>\n",
              "      <td>0.766</td>\n",
              "      <td>0</td>\n",
              "    </tr>\n",
              "    <tr>\n",
              "      <th>392</th>\n",
              "      <td>76</td>\n",
              "      <td>48</td>\n",
              "      <td>180</td>\n",
              "      <td>32.9</td>\n",
              "      <td>0.171</td>\n",
              "      <td>0</td>\n",
              "    </tr>\n",
              "    <tr>\n",
              "      <th>393</th>\n",
              "      <td>72</td>\n",
              "      <td>23</td>\n",
              "      <td>112</td>\n",
              "      <td>26.2</td>\n",
              "      <td>0.245</td>\n",
              "      <td>0</td>\n",
              "    </tr>\n",
              "  </tbody>\n",
              "</table>\n",
              "<p>394 rows × 6 columns</p>\n",
              "</div>\n",
              "    <div class=\"colab-df-buttons\">\n",
              "\n",
              "  <div class=\"colab-df-container\">\n",
              "    <button class=\"colab-df-convert\" onclick=\"convertToInteractive('df-ac6db3b5-8102-4ed1-b7e7-5b364ff3ab84')\"\n",
              "            title=\"Convert this dataframe to an interactive table.\"\n",
              "            style=\"display:none;\">\n",
              "\n",
              "  <svg xmlns=\"http://www.w3.org/2000/svg\" height=\"24px\" viewBox=\"0 -960 960 960\">\n",
              "    <path d=\"M120-120v-720h720v720H120Zm60-500h600v-160H180v160Zm220 220h160v-160H400v160Zm0 220h160v-160H400v160ZM180-400h160v-160H180v160Zm440 0h160v-160H620v160ZM180-180h160v-160H180v160Zm440 0h160v-160H620v160Z\"/>\n",
              "  </svg>\n",
              "    </button>\n",
              "\n",
              "  <style>\n",
              "    .colab-df-container {\n",
              "      display:flex;\n",
              "      gap: 12px;\n",
              "    }\n",
              "\n",
              "    .colab-df-convert {\n",
              "      background-color: #E8F0FE;\n",
              "      border: none;\n",
              "      border-radius: 50%;\n",
              "      cursor: pointer;\n",
              "      display: none;\n",
              "      fill: #1967D2;\n",
              "      height: 32px;\n",
              "      padding: 0 0 0 0;\n",
              "      width: 32px;\n",
              "    }\n",
              "\n",
              "    .colab-df-convert:hover {\n",
              "      background-color: #E2EBFA;\n",
              "      box-shadow: 0px 1px 2px rgba(60, 64, 67, 0.3), 0px 1px 3px 1px rgba(60, 64, 67, 0.15);\n",
              "      fill: #174EA6;\n",
              "    }\n",
              "\n",
              "    .colab-df-buttons div {\n",
              "      margin-bottom: 4px;\n",
              "    }\n",
              "\n",
              "    [theme=dark] .colab-df-convert {\n",
              "      background-color: #3B4455;\n",
              "      fill: #D2E3FC;\n",
              "    }\n",
              "\n",
              "    [theme=dark] .colab-df-convert:hover {\n",
              "      background-color: #434B5C;\n",
              "      box-shadow: 0px 1px 3px 1px rgba(0, 0, 0, 0.15);\n",
              "      filter: drop-shadow(0px 1px 2px rgba(0, 0, 0, 0.3));\n",
              "      fill: #FFFFFF;\n",
              "    }\n",
              "  </style>\n",
              "\n",
              "    <script>\n",
              "      const buttonEl =\n",
              "        document.querySelector('#df-ac6db3b5-8102-4ed1-b7e7-5b364ff3ab84 button.colab-df-convert');\n",
              "      buttonEl.style.display =\n",
              "        google.colab.kernel.accessAllowed ? 'block' : 'none';\n",
              "\n",
              "      async function convertToInteractive(key) {\n",
              "        const element = document.querySelector('#df-ac6db3b5-8102-4ed1-b7e7-5b364ff3ab84');\n",
              "        const dataTable =\n",
              "          await google.colab.kernel.invokeFunction('convertToInteractive',\n",
              "                                                    [key], {});\n",
              "        if (!dataTable) return;\n",
              "\n",
              "        const docLinkHtml = 'Like what you see? Visit the ' +\n",
              "          '<a target=\"_blank\" href=https://colab.research.google.com/notebooks/data_table.ipynb>data table notebook</a>'\n",
              "          + ' to learn more about interactive tables.';\n",
              "        element.innerHTML = '';\n",
              "        dataTable['output_type'] = 'display_data';\n",
              "        await google.colab.output.renderOutput(dataTable, element);\n",
              "        const docLink = document.createElement('div');\n",
              "        docLink.innerHTML = docLinkHtml;\n",
              "        element.appendChild(docLink);\n",
              "      }\n",
              "    </script>\n",
              "  </div>\n",
              "\n",
              "\n",
              "<div id=\"df-a061a06a-83db-46eb-a9e0-f3d011206858\">\n",
              "  <button class=\"colab-df-quickchart\" onclick=\"quickchart('df-a061a06a-83db-46eb-a9e0-f3d011206858')\"\n",
              "            title=\"Suggest charts\"\n",
              "            style=\"display:none;\">\n",
              "\n",
              "<svg xmlns=\"http://www.w3.org/2000/svg\" height=\"24px\"viewBox=\"0 0 24 24\"\n",
              "     width=\"24px\">\n",
              "    <g>\n",
              "        <path d=\"M19 3H5c-1.1 0-2 .9-2 2v14c0 1.1.9 2 2 2h14c1.1 0 2-.9 2-2V5c0-1.1-.9-2-2-2zM9 17H7v-7h2v7zm4 0h-2V7h2v10zm4 0h-2v-4h2v4z\"/>\n",
              "    </g>\n",
              "</svg>\n",
              "  </button>\n",
              "\n",
              "<style>\n",
              "  .colab-df-quickchart {\n",
              "      --bg-color: #E8F0FE;\n",
              "      --fill-color: #1967D2;\n",
              "      --hover-bg-color: #E2EBFA;\n",
              "      --hover-fill-color: #174EA6;\n",
              "      --disabled-fill-color: #AAA;\n",
              "      --disabled-bg-color: #DDD;\n",
              "  }\n",
              "\n",
              "  [theme=dark] .colab-df-quickchart {\n",
              "      --bg-color: #3B4455;\n",
              "      --fill-color: #D2E3FC;\n",
              "      --hover-bg-color: #434B5C;\n",
              "      --hover-fill-color: #FFFFFF;\n",
              "      --disabled-bg-color: #3B4455;\n",
              "      --disabled-fill-color: #666;\n",
              "  }\n",
              "\n",
              "  .colab-df-quickchart {\n",
              "    background-color: var(--bg-color);\n",
              "    border: none;\n",
              "    border-radius: 50%;\n",
              "    cursor: pointer;\n",
              "    display: none;\n",
              "    fill: var(--fill-color);\n",
              "    height: 32px;\n",
              "    padding: 0;\n",
              "    width: 32px;\n",
              "  }\n",
              "\n",
              "  .colab-df-quickchart:hover {\n",
              "    background-color: var(--hover-bg-color);\n",
              "    box-shadow: 0 1px 2px rgba(60, 64, 67, 0.3), 0 1px 3px 1px rgba(60, 64, 67, 0.15);\n",
              "    fill: var(--button-hover-fill-color);\n",
              "  }\n",
              "\n",
              "  .colab-df-quickchart-complete:disabled,\n",
              "  .colab-df-quickchart-complete:disabled:hover {\n",
              "    background-color: var(--disabled-bg-color);\n",
              "    fill: var(--disabled-fill-color);\n",
              "    box-shadow: none;\n",
              "  }\n",
              "\n",
              "  .colab-df-spinner {\n",
              "    border: 2px solid var(--fill-color);\n",
              "    border-color: transparent;\n",
              "    border-bottom-color: var(--fill-color);\n",
              "    animation:\n",
              "      spin 1s steps(1) infinite;\n",
              "  }\n",
              "\n",
              "  @keyframes spin {\n",
              "    0% {\n",
              "      border-color: transparent;\n",
              "      border-bottom-color: var(--fill-color);\n",
              "      border-left-color: var(--fill-color);\n",
              "    }\n",
              "    20% {\n",
              "      border-color: transparent;\n",
              "      border-left-color: var(--fill-color);\n",
              "      border-top-color: var(--fill-color);\n",
              "    }\n",
              "    30% {\n",
              "      border-color: transparent;\n",
              "      border-left-color: var(--fill-color);\n",
              "      border-top-color: var(--fill-color);\n",
              "      border-right-color: var(--fill-color);\n",
              "    }\n",
              "    40% {\n",
              "      border-color: transparent;\n",
              "      border-right-color: var(--fill-color);\n",
              "      border-top-color: var(--fill-color);\n",
              "    }\n",
              "    60% {\n",
              "      border-color: transparent;\n",
              "      border-right-color: var(--fill-color);\n",
              "    }\n",
              "    80% {\n",
              "      border-color: transparent;\n",
              "      border-right-color: var(--fill-color);\n",
              "      border-bottom-color: var(--fill-color);\n",
              "    }\n",
              "    90% {\n",
              "      border-color: transparent;\n",
              "      border-bottom-color: var(--fill-color);\n",
              "    }\n",
              "  }\n",
              "</style>\n",
              "\n",
              "  <script>\n",
              "    async function quickchart(key) {\n",
              "      const quickchartButtonEl =\n",
              "        document.querySelector('#' + key + ' button');\n",
              "      quickchartButtonEl.disabled = true;  // To prevent multiple clicks.\n",
              "      quickchartButtonEl.classList.add('colab-df-spinner');\n",
              "      try {\n",
              "        const charts = await google.colab.kernel.invokeFunction(\n",
              "            'suggestCharts', [key], {});\n",
              "      } catch (error) {\n",
              "        console.error('Error during call to suggestCharts:', error);\n",
              "      }\n",
              "      quickchartButtonEl.classList.remove('colab-df-spinner');\n",
              "      quickchartButtonEl.classList.add('colab-df-quickchart-complete');\n",
              "    }\n",
              "    (() => {\n",
              "      let quickchartButtonEl =\n",
              "        document.querySelector('#df-a061a06a-83db-46eb-a9e0-f3d011206858 button');\n",
              "      quickchartButtonEl.style.display =\n",
              "        google.colab.kernel.accessAllowed ? 'block' : 'none';\n",
              "    })();\n",
              "  </script>\n",
              "</div>\n",
              "\n",
              "  <div id=\"id_10fac81f-c9e2-49da-9296-9060a7a1cf24\">\n",
              "    <style>\n",
              "      .colab-df-generate {\n",
              "        background-color: #E8F0FE;\n",
              "        border: none;\n",
              "        border-radius: 50%;\n",
              "        cursor: pointer;\n",
              "        display: none;\n",
              "        fill: #1967D2;\n",
              "        height: 32px;\n",
              "        padding: 0 0 0 0;\n",
              "        width: 32px;\n",
              "      }\n",
              "\n",
              "      .colab-df-generate:hover {\n",
              "        background-color: #E2EBFA;\n",
              "        box-shadow: 0px 1px 2px rgba(60, 64, 67, 0.3), 0px 1px 3px 1px rgba(60, 64, 67, 0.15);\n",
              "        fill: #174EA6;\n",
              "      }\n",
              "\n",
              "      [theme=dark] .colab-df-generate {\n",
              "        background-color: #3B4455;\n",
              "        fill: #D2E3FC;\n",
              "      }\n",
              "\n",
              "      [theme=dark] .colab-df-generate:hover {\n",
              "        background-color: #434B5C;\n",
              "        box-shadow: 0px 1px 3px 1px rgba(0, 0, 0, 0.15);\n",
              "        filter: drop-shadow(0px 1px 2px rgba(0, 0, 0, 0.3));\n",
              "        fill: #FFFFFF;\n",
              "      }\n",
              "    </style>\n",
              "    <button class=\"colab-df-generate\" onclick=\"generateWithVariable('dados')\"\n",
              "            title=\"Generate code using this dataframe.\"\n",
              "            style=\"display:none;\">\n",
              "\n",
              "  <svg xmlns=\"http://www.w3.org/2000/svg\" height=\"24px\"viewBox=\"0 0 24 24\"\n",
              "       width=\"24px\">\n",
              "    <path d=\"M7,19H8.4L18.45,9,17,7.55,7,17.6ZM5,21V16.75L18.45,3.32a2,2,0,0,1,2.83,0l1.4,1.43a1.91,1.91,0,0,1,.58,1.4,1.91,1.91,0,0,1-.58,1.4L9.25,21ZM18.45,9,17,7.55Zm-12,3A5.31,5.31,0,0,0,4.9,8.1,5.31,5.31,0,0,0,1,6.5,5.31,5.31,0,0,0,4.9,4.9,5.31,5.31,0,0,0,6.5,1,5.31,5.31,0,0,0,8.1,4.9,5.31,5.31,0,0,0,12,6.5,5.46,5.46,0,0,0,6.5,12Z\"/>\n",
              "  </svg>\n",
              "    </button>\n",
              "    <script>\n",
              "      (() => {\n",
              "      const buttonEl =\n",
              "        document.querySelector('#id_10fac81f-c9e2-49da-9296-9060a7a1cf24 button.colab-df-generate');\n",
              "      buttonEl.style.display =\n",
              "        google.colab.kernel.accessAllowed ? 'block' : 'none';\n",
              "\n",
              "      buttonEl.onclick = () => {\n",
              "        google.colab.notebook.generateWithVariable('dados');\n",
              "      }\n",
              "      })();\n",
              "    </script>\n",
              "  </div>\n",
              "\n",
              "    </div>\n",
              "  </div>\n"
            ],
            "application/vnd.google.colaboratory.intrinsic+json": {
              "type": "dataframe",
              "variable_name": "dados",
              "summary": "{\n  \"name\": \"dados\",\n  \"rows\": 394,\n  \"fields\": [\n    {\n      \"column\": \"glicemia\",\n      \"properties\": {\n        \"dtype\": \"number\",\n        \"std\": 12,\n        \"min\": 24,\n        \"max\": 110,\n        \"num_unique_values\": 37,\n        \"samples\": [\n          68,\n          64,\n          60\n        ],\n        \"semantic_type\": \"\",\n        \"description\": \"\"\n      }\n    },\n    {\n      \"column\": \"pressao_sanguinea\",\n      \"properties\": {\n        \"dtype\": \"number\",\n        \"std\": 10,\n        \"min\": 7,\n        \"max\": 63,\n        \"num_unique_values\": 48,\n        \"samples\": [\n          51,\n          52,\n          18\n        ],\n        \"semantic_type\": \"\",\n        \"description\": \"\"\n      }\n    },\n    {\n      \"column\": \"dobra_cutane_triceps\",\n      \"properties\": {\n        \"dtype\": \"number\",\n        \"std\": 118,\n        \"min\": 14,\n        \"max\": 846,\n        \"num_unique_values\": 185,\n        \"samples\": [\n          240,\n          18,\n          274\n        ],\n        \"semantic_type\": \"\",\n        \"description\": \"\"\n      }\n    },\n    {\n      \"column\": \"insulina\",\n      \"properties\": {\n        \"dtype\": \"number\",\n        \"std\": 7.210160099590896,\n        \"min\": 0.0,\n        \"max\": 67.1,\n        \"num_unique_values\": 195,\n        \"samples\": [\n          42.1,\n          24.0,\n          46.1\n        ],\n        \"semantic_type\": \"\",\n        \"description\": \"\"\n      }\n    },\n    {\n      \"column\": \"imc\",\n      \"properties\": {\n        \"dtype\": \"number\",\n        \"std\": 0.35012694813877243,\n        \"min\": 0.085,\n        \"max\": 2.42,\n        \"num_unique_values\": 332,\n        \"samples\": [\n          0.962,\n          0.251,\n          0.229\n        ],\n        \"semantic_type\": \"\",\n        \"description\": \"\"\n      }\n    },\n    {\n      \"column\": \"diabetes\",\n      \"properties\": {\n        \"dtype\": \"number\",\n        \"std\": 0,\n        \"min\": 0,\n        \"max\": 1,\n        \"num_unique_values\": 2,\n        \"samples\": [\n          1,\n          0\n        ],\n        \"semantic_type\": \"\",\n        \"description\": \"\"\n      }\n    }\n  ]\n}"
            }
          },
          "metadata": {},
          "execution_count": 663
        }
      ]
    },
    {
      "cell_type": "code",
      "source": [
        "dados.info() # visualização"
      ],
      "metadata": {
        "colab": {
          "base_uri": "https://localhost:8080/"
        },
        "id": "iakRxQ_paAJy",
        "outputId": "f21d725e-f1d0-4b5d-f977-1610259f6f0a"
      },
      "execution_count": 664,
      "outputs": [
        {
          "output_type": "stream",
          "name": "stdout",
          "text": [
            "<class 'pandas.core.frame.DataFrame'>\n",
            "RangeIndex: 394 entries, 0 to 393\n",
            "Data columns (total 6 columns):\n",
            " #   Column                Non-Null Count  Dtype  \n",
            "---  ------                --------------  -----  \n",
            " 0   glicemia              394 non-null    int64  \n",
            " 1   pressao_sanguinea     394 non-null    int64  \n",
            " 2   dobra_cutane_triceps  394 non-null    int64  \n",
            " 3   insulina              394 non-null    float64\n",
            " 4   imc                   394 non-null    float64\n",
            " 5   diabetes              394 non-null    int64  \n",
            "dtypes: float64(2), int64(4)\n",
            "memory usage: 18.6 KB\n"
          ]
        }
      ]
    },
    {
      "cell_type": "markdown",
      "source": [
        "### Separação de Variáveis"
      ],
      "metadata": {
        "id": "-GqySP-Bad9Z"
      }
    },
    {
      "cell_type": "code",
      "source": [
        "x = dados.drop('diabetes', axis = 1)\n",
        "y = dados['diabetes']"
      ],
      "metadata": {
        "id": "QkpMA1UnaAOp"
      },
      "execution_count": 665,
      "outputs": []
    },
    {
      "cell_type": "code",
      "source": [
        "x # visualização"
      ],
      "metadata": {
        "colab": {
          "base_uri": "https://localhost:8080/",
          "height": 0
        },
        "collapsed": true,
        "id": "NiVSSEucaATJ",
        "outputId": "1bceb811-e1a2-4efa-c763-52a832b53951"
      },
      "execution_count": 666,
      "outputs": [
        {
          "output_type": "execute_result",
          "data": {
            "text/plain": [
              "     glicemia  pressao_sanguinea  dobra_cutane_triceps  insulina    imc\n",
              "0          66                 23                    94      28.1  0.167\n",
              "1          40                 35                   168      43.1  2.288\n",
              "2          50                 32                    88      31.0  0.248\n",
              "3          70                 45                   543      30.5  0.158\n",
              "4          60                 23                   846      30.1  0.398\n",
              "..        ...                ...                   ...       ...    ...\n",
              "389        88                 44                   510      43.3  0.222\n",
              "390        88                 39                   110      36.5  1.057\n",
              "391        58                 26                    16      28.4  0.766\n",
              "392        76                 48                   180      32.9  0.171\n",
              "393        72                 23                   112      26.2  0.245\n",
              "\n",
              "[394 rows x 5 columns]"
            ],
            "text/html": [
              "\n",
              "  <div id=\"df-ba13520d-09d1-4a95-970d-6f6a455bd68b\" class=\"colab-df-container\">\n",
              "    <div>\n",
              "<style scoped>\n",
              "    .dataframe tbody tr th:only-of-type {\n",
              "        vertical-align: middle;\n",
              "    }\n",
              "\n",
              "    .dataframe tbody tr th {\n",
              "        vertical-align: top;\n",
              "    }\n",
              "\n",
              "    .dataframe thead th {\n",
              "        text-align: right;\n",
              "    }\n",
              "</style>\n",
              "<table border=\"1\" class=\"dataframe\">\n",
              "  <thead>\n",
              "    <tr style=\"text-align: right;\">\n",
              "      <th></th>\n",
              "      <th>glicemia</th>\n",
              "      <th>pressao_sanguinea</th>\n",
              "      <th>dobra_cutane_triceps</th>\n",
              "      <th>insulina</th>\n",
              "      <th>imc</th>\n",
              "    </tr>\n",
              "  </thead>\n",
              "  <tbody>\n",
              "    <tr>\n",
              "      <th>0</th>\n",
              "      <td>66</td>\n",
              "      <td>23</td>\n",
              "      <td>94</td>\n",
              "      <td>28.1</td>\n",
              "      <td>0.167</td>\n",
              "    </tr>\n",
              "    <tr>\n",
              "      <th>1</th>\n",
              "      <td>40</td>\n",
              "      <td>35</td>\n",
              "      <td>168</td>\n",
              "      <td>43.1</td>\n",
              "      <td>2.288</td>\n",
              "    </tr>\n",
              "    <tr>\n",
              "      <th>2</th>\n",
              "      <td>50</td>\n",
              "      <td>32</td>\n",
              "      <td>88</td>\n",
              "      <td>31.0</td>\n",
              "      <td>0.248</td>\n",
              "    </tr>\n",
              "    <tr>\n",
              "      <th>3</th>\n",
              "      <td>70</td>\n",
              "      <td>45</td>\n",
              "      <td>543</td>\n",
              "      <td>30.5</td>\n",
              "      <td>0.158</td>\n",
              "    </tr>\n",
              "    <tr>\n",
              "      <th>4</th>\n",
              "      <td>60</td>\n",
              "      <td>23</td>\n",
              "      <td>846</td>\n",
              "      <td>30.1</td>\n",
              "      <td>0.398</td>\n",
              "    </tr>\n",
              "    <tr>\n",
              "      <th>...</th>\n",
              "      <td>...</td>\n",
              "      <td>...</td>\n",
              "      <td>...</td>\n",
              "      <td>...</td>\n",
              "      <td>...</td>\n",
              "    </tr>\n",
              "    <tr>\n",
              "      <th>389</th>\n",
              "      <td>88</td>\n",
              "      <td>44</td>\n",
              "      <td>510</td>\n",
              "      <td>43.3</td>\n",
              "      <td>0.222</td>\n",
              "    </tr>\n",
              "    <tr>\n",
              "      <th>390</th>\n",
              "      <td>88</td>\n",
              "      <td>39</td>\n",
              "      <td>110</td>\n",
              "      <td>36.5</td>\n",
              "      <td>1.057</td>\n",
              "    </tr>\n",
              "    <tr>\n",
              "      <th>391</th>\n",
              "      <td>58</td>\n",
              "      <td>26</td>\n",
              "      <td>16</td>\n",
              "      <td>28.4</td>\n",
              "      <td>0.766</td>\n",
              "    </tr>\n",
              "    <tr>\n",
              "      <th>392</th>\n",
              "      <td>76</td>\n",
              "      <td>48</td>\n",
              "      <td>180</td>\n",
              "      <td>32.9</td>\n",
              "      <td>0.171</td>\n",
              "    </tr>\n",
              "    <tr>\n",
              "      <th>393</th>\n",
              "      <td>72</td>\n",
              "      <td>23</td>\n",
              "      <td>112</td>\n",
              "      <td>26.2</td>\n",
              "      <td>0.245</td>\n",
              "    </tr>\n",
              "  </tbody>\n",
              "</table>\n",
              "<p>394 rows × 5 columns</p>\n",
              "</div>\n",
              "    <div class=\"colab-df-buttons\">\n",
              "\n",
              "  <div class=\"colab-df-container\">\n",
              "    <button class=\"colab-df-convert\" onclick=\"convertToInteractive('df-ba13520d-09d1-4a95-970d-6f6a455bd68b')\"\n",
              "            title=\"Convert this dataframe to an interactive table.\"\n",
              "            style=\"display:none;\">\n",
              "\n",
              "  <svg xmlns=\"http://www.w3.org/2000/svg\" height=\"24px\" viewBox=\"0 -960 960 960\">\n",
              "    <path d=\"M120-120v-720h720v720H120Zm60-500h600v-160H180v160Zm220 220h160v-160H400v160Zm0 220h160v-160H400v160ZM180-400h160v-160H180v160Zm440 0h160v-160H620v160ZM180-180h160v-160H180v160Zm440 0h160v-160H620v160Z\"/>\n",
              "  </svg>\n",
              "    </button>\n",
              "\n",
              "  <style>\n",
              "    .colab-df-container {\n",
              "      display:flex;\n",
              "      gap: 12px;\n",
              "    }\n",
              "\n",
              "    .colab-df-convert {\n",
              "      background-color: #E8F0FE;\n",
              "      border: none;\n",
              "      border-radius: 50%;\n",
              "      cursor: pointer;\n",
              "      display: none;\n",
              "      fill: #1967D2;\n",
              "      height: 32px;\n",
              "      padding: 0 0 0 0;\n",
              "      width: 32px;\n",
              "    }\n",
              "\n",
              "    .colab-df-convert:hover {\n",
              "      background-color: #E2EBFA;\n",
              "      box-shadow: 0px 1px 2px rgba(60, 64, 67, 0.3), 0px 1px 3px 1px rgba(60, 64, 67, 0.15);\n",
              "      fill: #174EA6;\n",
              "    }\n",
              "\n",
              "    .colab-df-buttons div {\n",
              "      margin-bottom: 4px;\n",
              "    }\n",
              "\n",
              "    [theme=dark] .colab-df-convert {\n",
              "      background-color: #3B4455;\n",
              "      fill: #D2E3FC;\n",
              "    }\n",
              "\n",
              "    [theme=dark] .colab-df-convert:hover {\n",
              "      background-color: #434B5C;\n",
              "      box-shadow: 0px 1px 3px 1px rgba(0, 0, 0, 0.15);\n",
              "      filter: drop-shadow(0px 1px 2px rgba(0, 0, 0, 0.3));\n",
              "      fill: #FFFFFF;\n",
              "    }\n",
              "  </style>\n",
              "\n",
              "    <script>\n",
              "      const buttonEl =\n",
              "        document.querySelector('#df-ba13520d-09d1-4a95-970d-6f6a455bd68b button.colab-df-convert');\n",
              "      buttonEl.style.display =\n",
              "        google.colab.kernel.accessAllowed ? 'block' : 'none';\n",
              "\n",
              "      async function convertToInteractive(key) {\n",
              "        const element = document.querySelector('#df-ba13520d-09d1-4a95-970d-6f6a455bd68b');\n",
              "        const dataTable =\n",
              "          await google.colab.kernel.invokeFunction('convertToInteractive',\n",
              "                                                    [key], {});\n",
              "        if (!dataTable) return;\n",
              "\n",
              "        const docLinkHtml = 'Like what you see? Visit the ' +\n",
              "          '<a target=\"_blank\" href=https://colab.research.google.com/notebooks/data_table.ipynb>data table notebook</a>'\n",
              "          + ' to learn more about interactive tables.';\n",
              "        element.innerHTML = '';\n",
              "        dataTable['output_type'] = 'display_data';\n",
              "        await google.colab.output.renderOutput(dataTable, element);\n",
              "        const docLink = document.createElement('div');\n",
              "        docLink.innerHTML = docLinkHtml;\n",
              "        element.appendChild(docLink);\n",
              "      }\n",
              "    </script>\n",
              "  </div>\n",
              "\n",
              "\n",
              "<div id=\"df-08ee2125-5500-428d-8c32-3d69a95eed48\">\n",
              "  <button class=\"colab-df-quickchart\" onclick=\"quickchart('df-08ee2125-5500-428d-8c32-3d69a95eed48')\"\n",
              "            title=\"Suggest charts\"\n",
              "            style=\"display:none;\">\n",
              "\n",
              "<svg xmlns=\"http://www.w3.org/2000/svg\" height=\"24px\"viewBox=\"0 0 24 24\"\n",
              "     width=\"24px\">\n",
              "    <g>\n",
              "        <path d=\"M19 3H5c-1.1 0-2 .9-2 2v14c0 1.1.9 2 2 2h14c1.1 0 2-.9 2-2V5c0-1.1-.9-2-2-2zM9 17H7v-7h2v7zm4 0h-2V7h2v10zm4 0h-2v-4h2v4z\"/>\n",
              "    </g>\n",
              "</svg>\n",
              "  </button>\n",
              "\n",
              "<style>\n",
              "  .colab-df-quickchart {\n",
              "      --bg-color: #E8F0FE;\n",
              "      --fill-color: #1967D2;\n",
              "      --hover-bg-color: #E2EBFA;\n",
              "      --hover-fill-color: #174EA6;\n",
              "      --disabled-fill-color: #AAA;\n",
              "      --disabled-bg-color: #DDD;\n",
              "  }\n",
              "\n",
              "  [theme=dark] .colab-df-quickchart {\n",
              "      --bg-color: #3B4455;\n",
              "      --fill-color: #D2E3FC;\n",
              "      --hover-bg-color: #434B5C;\n",
              "      --hover-fill-color: #FFFFFF;\n",
              "      --disabled-bg-color: #3B4455;\n",
              "      --disabled-fill-color: #666;\n",
              "  }\n",
              "\n",
              "  .colab-df-quickchart {\n",
              "    background-color: var(--bg-color);\n",
              "    border: none;\n",
              "    border-radius: 50%;\n",
              "    cursor: pointer;\n",
              "    display: none;\n",
              "    fill: var(--fill-color);\n",
              "    height: 32px;\n",
              "    padding: 0;\n",
              "    width: 32px;\n",
              "  }\n",
              "\n",
              "  .colab-df-quickchart:hover {\n",
              "    background-color: var(--hover-bg-color);\n",
              "    box-shadow: 0 1px 2px rgba(60, 64, 67, 0.3), 0 1px 3px 1px rgba(60, 64, 67, 0.15);\n",
              "    fill: var(--button-hover-fill-color);\n",
              "  }\n",
              "\n",
              "  .colab-df-quickchart-complete:disabled,\n",
              "  .colab-df-quickchart-complete:disabled:hover {\n",
              "    background-color: var(--disabled-bg-color);\n",
              "    fill: var(--disabled-fill-color);\n",
              "    box-shadow: none;\n",
              "  }\n",
              "\n",
              "  .colab-df-spinner {\n",
              "    border: 2px solid var(--fill-color);\n",
              "    border-color: transparent;\n",
              "    border-bottom-color: var(--fill-color);\n",
              "    animation:\n",
              "      spin 1s steps(1) infinite;\n",
              "  }\n",
              "\n",
              "  @keyframes spin {\n",
              "    0% {\n",
              "      border-color: transparent;\n",
              "      border-bottom-color: var(--fill-color);\n",
              "      border-left-color: var(--fill-color);\n",
              "    }\n",
              "    20% {\n",
              "      border-color: transparent;\n",
              "      border-left-color: var(--fill-color);\n",
              "      border-top-color: var(--fill-color);\n",
              "    }\n",
              "    30% {\n",
              "      border-color: transparent;\n",
              "      border-left-color: var(--fill-color);\n",
              "      border-top-color: var(--fill-color);\n",
              "      border-right-color: var(--fill-color);\n",
              "    }\n",
              "    40% {\n",
              "      border-color: transparent;\n",
              "      border-right-color: var(--fill-color);\n",
              "      border-top-color: var(--fill-color);\n",
              "    }\n",
              "    60% {\n",
              "      border-color: transparent;\n",
              "      border-right-color: var(--fill-color);\n",
              "    }\n",
              "    80% {\n",
              "      border-color: transparent;\n",
              "      border-right-color: var(--fill-color);\n",
              "      border-bottom-color: var(--fill-color);\n",
              "    }\n",
              "    90% {\n",
              "      border-color: transparent;\n",
              "      border-bottom-color: var(--fill-color);\n",
              "    }\n",
              "  }\n",
              "</style>\n",
              "\n",
              "  <script>\n",
              "    async function quickchart(key) {\n",
              "      const quickchartButtonEl =\n",
              "        document.querySelector('#' + key + ' button');\n",
              "      quickchartButtonEl.disabled = true;  // To prevent multiple clicks.\n",
              "      quickchartButtonEl.classList.add('colab-df-spinner');\n",
              "      try {\n",
              "        const charts = await google.colab.kernel.invokeFunction(\n",
              "            'suggestCharts', [key], {});\n",
              "      } catch (error) {\n",
              "        console.error('Error during call to suggestCharts:', error);\n",
              "      }\n",
              "      quickchartButtonEl.classList.remove('colab-df-spinner');\n",
              "      quickchartButtonEl.classList.add('colab-df-quickchart-complete');\n",
              "    }\n",
              "    (() => {\n",
              "      let quickchartButtonEl =\n",
              "        document.querySelector('#df-08ee2125-5500-428d-8c32-3d69a95eed48 button');\n",
              "      quickchartButtonEl.style.display =\n",
              "        google.colab.kernel.accessAllowed ? 'block' : 'none';\n",
              "    })();\n",
              "  </script>\n",
              "</div>\n",
              "\n",
              "  <div id=\"id_477a42bb-d622-4074-92c4-ee8d6e484a7f\">\n",
              "    <style>\n",
              "      .colab-df-generate {\n",
              "        background-color: #E8F0FE;\n",
              "        border: none;\n",
              "        border-radius: 50%;\n",
              "        cursor: pointer;\n",
              "        display: none;\n",
              "        fill: #1967D2;\n",
              "        height: 32px;\n",
              "        padding: 0 0 0 0;\n",
              "        width: 32px;\n",
              "      }\n",
              "\n",
              "      .colab-df-generate:hover {\n",
              "        background-color: #E2EBFA;\n",
              "        box-shadow: 0px 1px 2px rgba(60, 64, 67, 0.3), 0px 1px 3px 1px rgba(60, 64, 67, 0.15);\n",
              "        fill: #174EA6;\n",
              "      }\n",
              "\n",
              "      [theme=dark] .colab-df-generate {\n",
              "        background-color: #3B4455;\n",
              "        fill: #D2E3FC;\n",
              "      }\n",
              "\n",
              "      [theme=dark] .colab-df-generate:hover {\n",
              "        background-color: #434B5C;\n",
              "        box-shadow: 0px 1px 3px 1px rgba(0, 0, 0, 0.15);\n",
              "        filter: drop-shadow(0px 1px 2px rgba(0, 0, 0, 0.3));\n",
              "        fill: #FFFFFF;\n",
              "      }\n",
              "    </style>\n",
              "    <button class=\"colab-df-generate\" onclick=\"generateWithVariable('x')\"\n",
              "            title=\"Generate code using this dataframe.\"\n",
              "            style=\"display:none;\">\n",
              "\n",
              "  <svg xmlns=\"http://www.w3.org/2000/svg\" height=\"24px\"viewBox=\"0 0 24 24\"\n",
              "       width=\"24px\">\n",
              "    <path d=\"M7,19H8.4L18.45,9,17,7.55,7,17.6ZM5,21V16.75L18.45,3.32a2,2,0,0,1,2.83,0l1.4,1.43a1.91,1.91,0,0,1,.58,1.4,1.91,1.91,0,0,1-.58,1.4L9.25,21ZM18.45,9,17,7.55Zm-12,3A5.31,5.31,0,0,0,4.9,8.1,5.31,5.31,0,0,0,1,6.5,5.31,5.31,0,0,0,4.9,4.9,5.31,5.31,0,0,0,6.5,1,5.31,5.31,0,0,0,8.1,4.9,5.31,5.31,0,0,0,12,6.5,5.46,5.46,0,0,0,6.5,12Z\"/>\n",
              "  </svg>\n",
              "    </button>\n",
              "    <script>\n",
              "      (() => {\n",
              "      const buttonEl =\n",
              "        document.querySelector('#id_477a42bb-d622-4074-92c4-ee8d6e484a7f button.colab-df-generate');\n",
              "      buttonEl.style.display =\n",
              "        google.colab.kernel.accessAllowed ? 'block' : 'none';\n",
              "\n",
              "      buttonEl.onclick = () => {\n",
              "        google.colab.notebook.generateWithVariable('x');\n",
              "      }\n",
              "      })();\n",
              "    </script>\n",
              "  </div>\n",
              "\n",
              "    </div>\n",
              "  </div>\n"
            ],
            "application/vnd.google.colaboratory.intrinsic+json": {
              "type": "dataframe",
              "variable_name": "x",
              "summary": "{\n  \"name\": \"x\",\n  \"rows\": 394,\n  \"fields\": [\n    {\n      \"column\": \"glicemia\",\n      \"properties\": {\n        \"dtype\": \"number\",\n        \"std\": 12,\n        \"min\": 24,\n        \"max\": 110,\n        \"num_unique_values\": 37,\n        \"samples\": [\n          68,\n          64,\n          60\n        ],\n        \"semantic_type\": \"\",\n        \"description\": \"\"\n      }\n    },\n    {\n      \"column\": \"pressao_sanguinea\",\n      \"properties\": {\n        \"dtype\": \"number\",\n        \"std\": 10,\n        \"min\": 7,\n        \"max\": 63,\n        \"num_unique_values\": 48,\n        \"samples\": [\n          51,\n          52,\n          18\n        ],\n        \"semantic_type\": \"\",\n        \"description\": \"\"\n      }\n    },\n    {\n      \"column\": \"dobra_cutane_triceps\",\n      \"properties\": {\n        \"dtype\": \"number\",\n        \"std\": 118,\n        \"min\": 14,\n        \"max\": 846,\n        \"num_unique_values\": 185,\n        \"samples\": [\n          240,\n          18,\n          274\n        ],\n        \"semantic_type\": \"\",\n        \"description\": \"\"\n      }\n    },\n    {\n      \"column\": \"insulina\",\n      \"properties\": {\n        \"dtype\": \"number\",\n        \"std\": 7.210160099590896,\n        \"min\": 0.0,\n        \"max\": 67.1,\n        \"num_unique_values\": 195,\n        \"samples\": [\n          42.1,\n          24.0,\n          46.1\n        ],\n        \"semantic_type\": \"\",\n        \"description\": \"\"\n      }\n    },\n    {\n      \"column\": \"imc\",\n      \"properties\": {\n        \"dtype\": \"number\",\n        \"std\": 0.35012694813877243,\n        \"min\": 0.085,\n        \"max\": 2.42,\n        \"num_unique_values\": 332,\n        \"samples\": [\n          0.962,\n          0.251,\n          0.229\n        ],\n        \"semantic_type\": \"\",\n        \"description\": \"\"\n      }\n    }\n  ]\n}"
            }
          },
          "metadata": {},
          "execution_count": 666
        }
      ]
    },
    {
      "cell_type": "code",
      "source": [
        "y # visualização"
      ],
      "metadata": {
        "colab": {
          "base_uri": "https://localhost:8080/"
        },
        "collapsed": true,
        "id": "uHg0EZS9aAXy",
        "outputId": "759d6612-b065-4721-b10c-90f570ac298e"
      },
      "execution_count": 667,
      "outputs": [
        {
          "output_type": "execute_result",
          "data": {
            "text/plain": [
              "0      0\n",
              "1      1\n",
              "2      1\n",
              "3      1\n",
              "4      1\n",
              "      ..\n",
              "389    1\n",
              "390    1\n",
              "391    0\n",
              "392    0\n",
              "393    0\n",
              "Name: diabetes, Length: 394, dtype: int64"
            ]
          },
          "metadata": {},
          "execution_count": 667
        }
      ]
    },
    {
      "cell_type": "markdown",
      "source": [
        "## **Validação do Modelo**\n",
        "\n",
        "A validação do modelo aqui é divida em 3 dados separados: *de treino, de\n",
        "validação* e *de teste*. Este é o chamado **\"Método Holdout\"**, que pode ser representado na imagem abaixo:\n",
        "\n",
        "![image.png](data:image/png;base64,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)"
      ],
      "metadata": {
        "id": "z3nvBPTpa5P4"
      }
    },
    {
      "cell_type": "code",
      "source": [
        "from sklearn.model_selection import train_test_split"
      ],
      "metadata": {
        "id": "o6Gw85MGaAcV"
      },
      "execution_count": 668,
      "outputs": []
    },
    {
      "cell_type": "code",
      "source": [
        "# separa dados em 85% p/ \"Treino\" e 15% p/ \"Teste\"\n",
        "x, x_teste, y, y_teste = train_test_split(x, y, stratify = y)\n",
        "# separa 25% dos dados (dentre os dados de \"Treino\") para \"Validação\"\n",
        "x_treino, x_val, y_treino, y_val = train_test_split(x, y, stratify = y)"
      ],
      "metadata": {
        "id": "a7AcGpwKaAgd"
      },
      "execution_count": 669,
      "outputs": []
    },
    {
      "cell_type": "code",
      "source": [
        "from sklearn.tree import DecisionTreeClassifier"
      ],
      "metadata": {
        "id": "st0DsBctcSE_"
      },
      "execution_count": 670,
      "outputs": []
    },
    {
      "cell_type": "code",
      "source": [
        "# modelo com profundida máxima de 3 \"níveis de árvore\"\n",
        "modeloTree = DecisionTreeClassifier(max_depth = 3)\n",
        "# faz o ajuste do modelo com os dados de treino\n",
        "modeloTree.fit(x_treino, y_treino)\n",
        "# usa os dados de validação p/ avaliar o ajuste feito\n",
        "print(f'Acurácia de validação (TreeClassifier): {modeloTree.score(x_val, y_val)}')"
      ],
      "metadata": {
        "colab": {
          "base_uri": "https://localhost:8080/"
        },
        "id": "LskKdm-yaAko",
        "outputId": "cddf6d20-66a8-41c1-b352-10c432fcc93a"
      },
      "execution_count": 671,
      "outputs": [
        {
          "output_type": "stream",
          "name": "stdout",
          "text": [
            "Acurácia de validação (TreeClassifier): 0.7162162162162162\n"
          ]
        }
      ]
    },
    {
      "cell_type": "code",
      "source": [
        "from sklearn.ensemble import RandomForestClassifier"
      ],
      "metadata": {
        "id": "gNcNSvdFaApe"
      },
      "execution_count": 672,
      "outputs": []
    },
    {
      "cell_type": "code",
      "source": [
        "# modelo com profundida máxima de 2 \"níveis de árvore\"\n",
        "modeloForest = RandomForestClassifier(max_depth = 2)\n",
        "# faz o ajuste do modelo com os dados de treino\n",
        "modeloForest.fit(x_treino, y_treino)\n",
        "# usa os dados de validação p/ avaliar o ajuste feito\n",
        "print(f'Acurácia de validação (RandomForest): {modeloForest.score(x_val, y_val)}')"
      ],
      "metadata": {
        "colab": {
          "base_uri": "https://localhost:8080/"
        },
        "id": "YkXNAzUDaAt4",
        "outputId": "69f75d4d-96e9-410d-c75b-aaa765964756"
      },
      "execution_count": 673,
      "outputs": [
        {
          "output_type": "stream",
          "name": "stdout",
          "text": [
            "Acurácia de validação (RandomForest): 0.7837837837837838\n"
          ]
        }
      ]
    },
    {
      "cell_type": "markdown",
      "source": [
        "## **Avaliando o modelo com a Matriz de Confusão**"
      ],
      "metadata": {
        "id": "lLIKnMo6d23C"
      }
    },
    {
      "cell_type": "code",
      "source": [
        "from sklearn.metrics import confusion_matrix\n",
        "from sklearn.metrics import ConfusionMatrixDisplay"
      ],
      "metadata": {
        "id": "MU98KdkzaAyM"
      },
      "execution_count": 674,
      "outputs": []
    },
    {
      "cell_type": "code",
      "source": [
        "# armazena as previsões\n",
        "y_previstoTree = modeloTree.predict(x_val)\n",
        "y_previstoForest = modeloForest.predict(x_val)"
      ],
      "metadata": {
        "id": "Yplrbv2-aA2U"
      },
      "execution_count": 675,
      "outputs": []
    },
    {
      "cell_type": "code",
      "source": [
        "matriz_confusaoTree = confusion_matrix(y_val, y_previstoTree)\n",
        "matriz_confusaoForest = confusion_matrix(y_val, y_previstoForest)"
      ],
      "metadata": {
        "id": "GtID5XyVaA6e"
      },
      "execution_count": 676,
      "outputs": []
    },
    {
      "cell_type": "code",
      "source": [
        "# melhorando a visualização da matriz de confusão com ConfusionMatrixDisplay\n",
        "visualizaMatrizTree = ConfusionMatrixDisplay(confusion_matrix = matriz_confusaoTree, display_labels = ['saudável', 'diabético']) # display_labels = [0, 1]\n",
        "visualizaMatrizTree.plot();\n",
        "# ponto-e-vírgula para não mostrar as informações textuais que aparecem acima da visualização de dados"
      ],
      "metadata": {
        "colab": {
          "base_uri": "https://localhost:8080/",
          "height": 0
        },
        "id": "_9HLfwZ9aA-k",
        "outputId": "432d2bb0-6fbd-4700-85cb-95d274928fbf"
      },
      "execution_count": 677,
      "outputs": [
        {
          "output_type": "display_data",
          "data": {
            "text/plain": [
              "<Figure size 640x480 with 2 Axes>"
            ],
            "image/png": "[encoded data removed]"
          },
          "metadata": {}
        }
      ]
    },
    {
      "cell_type": "code",
      "source": [
        "# melhorando a visualização da matriz de confusão com ConfusionMatrixDisplay\n",
        "visualizaMatrizForest = ConfusionMatrixDisplay(confusion_matrix = matriz_confusaoForest, display_labels = ['saudável', 'diabético']) # display_labels = [0, 1]\n",
        "visualizaMatrizForest.plot();\n",
        "# ponto-e-vírgula para não mostrar as informações textuais que aparecem acima da visualização de dados"
      ],
      "metadata": {
        "colab": {
          "base_uri": "https://localhost:8080/",
          "height": 0
        },
        "id": "jVei9-mEaBCA",
        "outputId": "e06cee8a-79a6-4943-f59c-4d672eeaef4c"
      },
      "execution_count": 678,
      "outputs": [
        {
          "output_type": "display_data",
          "data": {
            "text/plain": [
              "<Figure size 640x480 with 2 Axes>"
            ],
            "image/png": "[encoded data removed]"
          },
          "metadata": {}
        }
      ]
    },
    {
      "cell_type": "markdown",
      "source": [
        "### Analisando a métrica mais importante\n",
        "\n",
        "---\n",
        "\n",
        "O objetivo deste banco de dados é a previsão de pacientes que possuem diabetes, de acordo com outras características.\n",
        "\n",
        "Em que situação essa previsão poderia ser um **problema**?\n",
        "\n",
        "* **A resposta é simples:** caso os pacientes que *realmente* possuem diabetes ('diabético' em True Label) sejam classificados como *saudáveis* ('saudável' em Predicted Label), temos um problema sério.\n",
        "\n",
        "---\n",
        "\n",
        "Isso significa que existiriam muitos *Falsos Negativos (FN)*. E a métrica que possui o FN em sua composição é justamente a métrica de **Recall**. Portanto, o **Recall** é a métrica mais importante para esta database, de forma que ela precise estar o mais próximo possível de 100% (ou 1.0) para que o *problema* citado seja minimizado."
      ],
      "metadata": {
        "id": "VAoqs37mTQiw"
      }
    },
    {
      "cell_type": "markdown",
      "source": [
        "\n",
        "## **Métricas de avaliação: Acurácia, Precisão, Recall e F1-Score**"
      ],
      "metadata": {
        "id": "_XF-g9_h11AE"
      }
    },
    {
      "cell_type": "code",
      "source": [
        "from sklearn.metrics import accuracy_score"
      ],
      "metadata": {
        "id": "yTE7-DtSaBGh"
      },
      "execution_count": 679,
      "outputs": []
    },
    {
      "cell_type": "code",
      "source": [
        "# compara os valores reais (de validação) com os valores previstos\n",
        "print(f'Acurácia de validação (TreeClassifier): {accuracy_score(y_val, y_previstoTree)}')\n",
        "print(f'Acurácia de validação (RandomForest):   {accuracy_score(y_val, y_previstoForest)}')"
      ],
      "metadata": {
        "colab": {
          "base_uri": "https://localhost:8080/"
        },
        "id": "JyCcMp9BaBKz",
        "outputId": "2f9dd664-01f1-4a71-8aa7-6843df6aa649"
      },
      "execution_count": 680,
      "outputs": [
        {
          "output_type": "stream",
          "name": "stdout",
          "text": [
            "Acurácia de validação (TreeClassifier): 0.7162162162162162\n",
            "Acurácia de validação (RandomForest):   0.7837837837837838\n"
          ]
        }
      ]
    },
    {
      "cell_type": "code",
      "source": [
        "from sklearn.metrics import precision_score, recall_score, f1_score"
      ],
      "metadata": {
        "id": "yD4cjgWvaBOb"
      },
      "execution_count": 681,
      "outputs": []
    },
    {
      "cell_type": "code",
      "source": [
        "# Verificando as métricas de avaliação p/ a Árvore de Decisão\n",
        "print(f'Precisão (TreeClassifier): {precision_score(y_val, y_previstoTree)}')\n",
        "print(f'Recall   (TreeClassifier): {recall_score(y_val, y_previstoTree)}')\n",
        "print(f'F1-Score (TreeClassifier): {f1_score(y_val, y_previstoTree)}')"
      ],
      "metadata": {
        "colab": {
          "base_uri": "https://localhost:8080/"
        },
        "id": "JsFuQbpFaBQ7",
        "outputId": "6f3be042-cb3e-406d-948b-03275707cdab"
      },
      "execution_count": 682,
      "outputs": [
        {
          "output_type": "stream",
          "name": "stdout",
          "text": [
            "Precisão (TreeClassifier): 0.56\n",
            "Recall   (TreeClassifier): 0.5833333333333334\n",
            "F1-Score (TreeClassifier): 0.5714285714285714\n"
          ]
        }
      ]
    },
    {
      "cell_type": "code",
      "source": [
        "# Verificando as métricas de avaliação p/ a RandomForest\n",
        "print(f'Precisão (RandomForest): {precision_score(y_val, y_previstoForest)}')\n",
        "print(f'Recall   (RandomForest): {recall_score(y_val, y_previstoForest)}')\n",
        "print(f'F1-Score (RandomForest): {f1_score(y_val, y_previstoForest)}')"
      ],
      "metadata": {
        "colab": {
          "base_uri": "https://localhost:8080/"
        },
        "id": "XfRQvoHB3OjZ",
        "outputId": "7cac4dbb-ff23-446b-c674-4a37783eacd4"
      },
      "execution_count": 683,
      "outputs": [
        {
          "output_type": "stream",
          "name": "stdout",
          "text": [
            "Precisão (RandomForest): 0.7857142857142857\n",
            "Recall   (RandomForest): 0.4583333333333333\n",
            "F1-Score (RandomForest): 0.5789473684210527\n"
          ]
        }
      ]
    },
    {
      "cell_type": "markdown",
      "source": [
        "### Analisando a métrica mais importante\n",
        "\n",
        "---\n",
        "\n",
        "O **Recall**, que foi considerada acima como a métrica mais importante nessa database, está longe do 100%. Então devemos aproximar o Recall do 100%."
      ],
      "metadata": {
        "id": "v1UIlXAZXRLX"
      }
    },
    {
      "cell_type": "markdown",
      "source": [
        "## **Curva ROC**\n",
        "\n",
        "Quanto mais próxima a curva estiver no **0.0 das abscissas** e **1.0 das ordenadas**, significa que melhor é nosso modelo. Caso contrário, se a curva se aproximar de uma diagonal, significa que pior é o nosso modelo.\n",
        "\n",
        "---\n",
        "\n",
        "* **Obs.:** a AUC (Area Under Curve) deve se aproximar de **1.0**, quanto melhor ser o nosso modelo."
      ],
      "metadata": {
        "id": "5sUE8VS638DU"
      }
    },
    {
      "cell_type": "code",
      "source": [
        "from sklearn.metrics import RocCurveDisplay\n",
        "from sklearn.metrics import roc_auc_score"
      ],
      "metadata": {
        "id": "jJRXEEmj3-jg"
      },
      "execution_count": 684,
      "outputs": []
    },
    {
      "cell_type": "code",
      "source": [
        "# Curva ROC para o modelo de Árvore de Decisão\n",
        "RocCurveDisplay.from_predictions(y_val, y_previstoTree, name = 'tree classifier');"
      ],
      "metadata": {
        "colab": {
          "base_uri": "https://localhost:8080/",
          "height": 0
        },
        "id": "zoTIEV-t4CKw",
        "outputId": "23d3d63d-e764-4c68-e20d-d1d696888542"
      },
      "execution_count": 685,
      "outputs": [
        {
          "output_type": "display_data",
          "data": {
            "text/plain": [
              "<Figure size 640x480 with 1 Axes>"
            ],
            "image/png": "[encoded data removed]"
          },
          "metadata": {}
        }
      ]
    },
    {
      "cell_type": "code",
      "source": [
        "# Curva ROC para o modelo de RandomForest\n",
        "RocCurveDisplay.from_predictions(y_val, y_previstoForest, name = 'random forest');"
      ],
      "metadata": {
        "colab": {
          "base_uri": "https://localhost:8080/",
          "height": 0
        },
        "id": "gwYs-HgK4PfX",
        "outputId": "8911d06a-c8f9-4677-d42e-2ed82ef57061"
      },
      "execution_count": 686,
      "outputs": [
        {
          "output_type": "display_data",
          "data": {
            "text/plain": [
              "<Figure size 640x480 with 1 Axes>"
            ],
            "image/png": "[encoded data removed]"
          },
          "metadata": {}
        }
      ]
    },
    {
      "cell_type": "code",
      "source": [
        "# valores da AUC\n",
        "print(f'AUC (TreeClassifier): {roc_auc_score(y_val, y_previstoTree)}')\n",
        "print(f'AUC (RandomForest):   {roc_auc_score(y_val, y_previstoForest)}')"
      ],
      "metadata": {
        "colab": {
          "base_uri": "https://localhost:8080/"
        },
        "id": "yYtb19xx4Z-1",
        "outputId": "fa77454a-7f89-49fc-af49-022cbbfa0bcc"
      },
      "execution_count": 687,
      "outputs": [
        {
          "output_type": "stream",
          "name": "stdout",
          "text": [
            "AUC (TreeClassifier): 0.6816666666666668\n",
            "AUC (RandomForest):   0.6991666666666666\n"
          ]
        }
      ]
    },
    {
      "cell_type": "markdown",
      "source": [
        "## **Curva de Precisão x Recall**\n",
        "\n",
        "Quanto mais próximo da **coordenada (1.0, 1.0)**, significa que melhor é o nosso modelo. E quanto mais próximo da **coordenada (0.0, 0.0)**, significa que pior é o nosso modelo.\n",
        "\n",
        "---\n",
        "\n",
        "* **Obs.:** a **AP** significa *average precision*, ou *precisão média*, e deve apresentar valor próximo a **1.0**, quanto melhor ser o nosso modelo."
      ],
      "metadata": {
        "id": "pCzAh-fS46ed"
      }
    },
    {
      "cell_type": "code",
      "source": [
        "from sklearn.metrics import PrecisionRecallDisplay\n",
        "from sklearn.metrics import average_precision_score"
      ],
      "metadata": {
        "id": "YkNJiwV05CcL"
      },
      "execution_count": 688,
      "outputs": []
    },
    {
      "cell_type": "code",
      "source": [
        "PrecisionRecallDisplay.from_predictions(y_val, y_previstoTree, name = 'TreeClassifier');"
      ],
      "metadata": {
        "colab": {
          "base_uri": "https://localhost:8080/",
          "height": 0
        },
        "id": "-sSXQYRY5gdq",
        "outputId": "3c2c3d33-af64-411d-bea7-9bf5e5be0cf8"
      },
      "execution_count": 689,
      "outputs": [
        {
          "output_type": "display_data",
          "data": {
            "text/plain": [
              "<Figure size 640x480 with 1 Axes>"
            ],
            "image/png": "[encoded data removed]"
          },
          "metadata": {}
        }
      ]
    },
    {
      "cell_type": "code",
      "source": [
        "PrecisionRecallDisplay.from_predictions(y_val, y_previstoForest, name = 'RandomForest');"
      ],
      "metadata": {
        "colab": {
          "base_uri": "https://localhost:8080/",
          "height": 0
        },
        "id": "UiAM3IA65v8D",
        "outputId": "5f3dc22e-6161-47ff-f985-6a718406d276"
      },
      "execution_count": 690,
      "outputs": [
        {
          "output_type": "display_data",
          "data": {
            "text/plain": [
              "<Figure size 640x480 with 1 Axes>"
            ],
            "image/png": "[encoded data removed]"
          },
          "metadata": {}
        }
      ]
    },
    {
      "cell_type": "code",
      "source": [
        "# valores da AP\n",
        "print(f'AP (TreeClassifier): {average_precision_score(y_val, y_previstoTree)}')\n",
        "print(f'AP (RandomForest):   {average_precision_score(y_val, y_previstoForest)}')"
      ],
      "metadata": {
        "colab": {
          "base_uri": "https://localhost:8080/"
        },
        "id": "rTfntNCc58by",
        "outputId": "97bd60fb-9355-4c56-8d9a-498f22fb02c8"
      },
      "execution_count": 691,
      "outputs": [
        {
          "output_type": "stream",
          "name": "stdout",
          "text": [
            "AP (TreeClassifier): 0.46180180180180186\n",
            "AP (RandomForest):   0.5357947232947233\n"
          ]
        }
      ]
    },
    {
      "cell_type": "markdown",
      "source": [
        "## **Relatório de Métricas**\n",
        "\n",
        "---\n",
        "\n",
        "Permite avaliar as métricas em apenas um comando, e também ajuda a organizá-las em apenas uma célula (auxilia na visualização).\n",
        "\n",
        "O relatório é feito com base na *comparação* dos valores reais (de validação) com os valores previstos."
      ],
      "metadata": {
        "id": "7SBrod-F6RWT"
      }
    },
    {
      "cell_type": "code",
      "source": [
        "from sklearn.metrics import classification_report"
      ],
      "metadata": {
        "id": "_QNkhVxk6U5G"
      },
      "execution_count": 692,
      "outputs": []
    },
    {
      "cell_type": "code",
      "source": [
        "# relatório de métricas p/ o modelo de Árvore de Decisão\n",
        "print(f'Relatório de métricas para TreeClassifier:\\n\\n{classification_report(y_val, y_previstoTree)}')\n",
        "\n",
        "# 0 = saudável\n",
        "# 1 = diabético"
      ],
      "metadata": {
        "colab": {
          "base_uri": "https://localhost:8080/"
        },
        "id": "0NStWLAc6eMS",
        "outputId": "66e41e06-22a4-4f8c-bdcd-2abb31ecc32e"
      },
      "execution_count": 693,
      "outputs": [
        {
          "output_type": "stream",
          "name": "stdout",
          "text": [
            "Relatório de métricas para TreeClassifier:\n",
            "\n",
            "              precision    recall  f1-score   support\n",
            "\n",
            "           0       0.80      0.78      0.79        50\n",
            "           1       0.56      0.58      0.57        24\n",
            "\n",
            "    accuracy                           0.72        74\n",
            "   macro avg       0.68      0.68      0.68        74\n",
            "weighted avg       0.72      0.72      0.72        74\n",
            "\n"
          ]
        }
      ]
    },
    {
      "cell_type": "code",
      "source": [
        "# relatório de métricas p/ o modelo de RandomForest\n",
        "print(f'Relatório de métricas para RandomForest:\\n\\n{classification_report(y_val, y_previstoForest)}')\n",
        "\n",
        "# 0 = saudável\n",
        "# 1 = diabético"
      ],
      "metadata": {
        "colab": {
          "base_uri": "https://localhost:8080/"
        },
        "id": "2brGN99563fu",
        "outputId": "b2e2b793-7dfb-476b-afe9-c7308449d0c3"
      },
      "execution_count": 694,
      "outputs": [
        {
          "output_type": "stream",
          "name": "stdout",
          "text": [
            "Relatório de métricas para RandomForest:\n",
            "\n",
            "              precision    recall  f1-score   support\n",
            "\n",
            "           0       0.78      0.94      0.85        50\n",
            "           1       0.79      0.46      0.58        24\n",
            "\n",
            "    accuracy                           0.78        74\n",
            "   macro avg       0.78      0.70      0.72        74\n",
            "weighted avg       0.78      0.78      0.77        74\n",
            "\n"
          ]
        }
      ]
    },
    {
      "cell_type": "markdown",
      "source": [
        "## **Validação Cruzada: usando o \"Método K-Fold\"**\n",
        "\n",
        "---\n",
        "\n",
        "A métrica de **Recall** é a mais importante para esta classificação de dados, porém está muito baixa. E se isso ocorre devido ao fato do *padrão* de \"dados de validação\" e \"dados de treino\" forem padrões diferentes?\n",
        "\n",
        "---\n",
        "\n",
        "Para resolver isso, podemos utilizar o \"Método K-Fold\", que pode ser representado na imagem abaixo. Com esse método, nós dividimos os dados em  várias partes (nesse caso, em 5 partes) de mesmo tamanho. Assim, será gerado um modelo para cada parte, e a avaliação de desempenho será feita tirando a média da *métrica Recall* de cada modelo. Dessa forma, conseguimos garantir uma variação maior nos dados, impedindo que surja uma dependência da separação de dados.\n",
        "\n",
        "---\n",
        "Representação do **Método K-Fold**:\n",
        "\n",
        "![2023-07-17_12-39.png](data:image/png;base64,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)"
      ],
      "metadata": {
        "id": "fZw-cV9SiKJf"
      }
    },
    {
      "cell_type": "markdown",
      "source": [
        "### Escolhendo um modelo\n",
        "\n",
        "---\n",
        "O modelo de **Árvore de Decisão** apresentou melhores resultados até aqui, então\n",
        " esse será o modelo escolhido para dar continuidade na classificação dos dados."
      ],
      "metadata": {
        "id": "QQS8q0Jq2iSs"
      }
    },
    {
      "cell_type": "code",
      "source": [
        "from sklearn.model_selection import cross_validate, KFold"
      ],
      "metadata": {
        "id": "yskWnRsp2Guz"
      },
      "execution_count": 695,
      "outputs": []
    },
    {
      "cell_type": "code",
      "source": [
        "# recriando o modelo de Árvore de Decisão\n",
        "modeloTree = DecisionTreeClassifier(max_depth = 3)\n",
        "# faz a divisão dos dados em 5 partes\n",
        "kf = KFold(n_splits = 5, shuffle = True, random_state = 5)\n",
        "# o parâmetro \"shuffle\" é responsável por embaralhar o conjunto de dados\n",
        "\n",
        "# armazena os resultados das 5 divisões\n",
        "cv_resultados = cross_validate(modeloTree, x, y, cv = kf)"
      ],
      "metadata": {
        "id": "KqwFwJ0G2IN2"
      },
      "execution_count": 696,
      "outputs": []
    },
    {
      "cell_type": "code",
      "source": [
        "cv_resultados # visualização\n",
        "\n",
        "# fit_time: tempo necessário p/ ter feito os ajustes de cada divisão\n",
        "# score_time: tempo necessário p/ calcular cada métrica de cada divisão\n",
        "# test_score: desempenho de cada um dos modelos gerados"
      ],
      "metadata": {
        "colab": {
          "base_uri": "https://localhost:8080/"
        },
        "id": "7YXmvwGq2IVa",
        "outputId": "17192ccd-e995-4026-9f4c-00957074f7f3"
      },
      "execution_count": 697,
      "outputs": [
        {
          "output_type": "execute_result",
          "data": {
            "text/plain": [
              "{'fit_time': array([0.00823712, 0.00501108, 0.00485563, 0.00417042, 0.00329113]),\n",
              " 'score_time': array([0.00506568, 0.00429654, 0.00348496, 0.00286818, 0.00230598]),\n",
              " 'test_score': array([0.72881356, 0.6779661 , 0.74576271, 0.61016949, 0.81355932])}"
            ]
          },
          "metadata": {},
          "execution_count": 697
        }
      ]
    },
    {
      "cell_type": "code",
      "source": [
        "# isolando os desempenhos\n",
        "cv_resultados['test_score']"
      ],
      "metadata": {
        "colab": {
          "base_uri": "https://localhost:8080/"
        },
        "id": "2FqK4EXd2Icl",
        "outputId": "e204d0b2-ffc8-4949-ebf4-ebb9c85dddd2"
      },
      "execution_count": 698,
      "outputs": [
        {
          "output_type": "execute_result",
          "data": {
            "text/plain": [
              "array([0.72881356, 0.6779661 , 0.74576271, 0.61016949, 0.81355932])"
            ]
          },
          "metadata": {},
          "execution_count": 698
        }
      ]
    },
    {
      "cell_type": "code",
      "source": [
        "# criando função\n",
        "\n",
        "def calcula_intervalo(resultados):\n",
        "  media = resultados['test_score'].mean()\n",
        "  desvio_padrao = resultados['test_score'].std()\n",
        "\n",
        "  # o intervalo está entre (media - 2*desvio_padrao) e (media + 2*desvio_padrao)\n",
        "  # Caso esse último valor seja maior que 1, então o 1 será considerado.\n",
        "  print(f'Intervalo de confiança: [{media - 2 * desvio_padrao}, {min(media + 2 * desvio_padrao, 1)}]')"
      ],
      "metadata": {
        "id": "ceGDrMfa2IjV"
      },
      "execution_count": 699,
      "outputs": []
    },
    {
      "cell_type": "code",
      "source": [
        "calcula_intervalo(cv_resultados)"
      ],
      "metadata": {
        "colab": {
          "base_uri": "https://localhost:8080/"
        },
        "id": "K35noJN52Ivi",
        "outputId": "30ceccab-0031-4b15-f746-ed962a3659ef"
      },
      "execution_count": 700,
      "outputs": [
        {
          "output_type": "stream",
          "name": "stdout",
          "text": [
            "Intervalo de confiança: [0.5789847373407336, 0.8515237372355374]\n"
          ]
        }
      ]
    },
    {
      "cell_type": "markdown",
      "source": [
        "### Analisando os últimos resultados\n",
        "\n",
        "O intervalo de confiança representa apenas a métrica *Acurácia*. Mas e a métrica *Recall*? Esta métrica é mais importante, no nosso caso. Será feita essa análise abaixo."
      ],
      "metadata": {
        "id": "v9HSVLW73YZt"
      }
    },
    {
      "cell_type": "markdown",
      "source": [
        "## **Validação Cruzada com Recall**"
      ],
      "metadata": {
        "id": "Yda3ftuF3htU"
      }
    },
    {
      "cell_type": "code",
      "source": [
        "# recriando o modelo de Árvore de Decisão\n",
        "modeloTree = DecisionTreeClassifier(max_depth = 3)\n",
        "# faz a divisão dos dados em 5 partes\n",
        "kf = KFold(n_splits = 5, shuffle = True, random_state = 5)\n",
        "# o parâmetro \"shuffle\" é responsável por embaralhar o conjunto de dados\n",
        "\n",
        "# armazena os resultados das 5 divisões, mas apenas da métrica Recall\n",
        "cv_resultados = cross_validate(modeloTree, x, y, cv = kf, scoring = 'recall')"
      ],
      "metadata": {
        "id": "1tlSaqQA2IzU"
      },
      "execution_count": 701,
      "outputs": []
    },
    {
      "cell_type": "code",
      "source": [
        "cv_resultados # visualização\n",
        "\n",
        "# fit_time: tempo necessário p/ ter feito os ajustes de cada divisão\n",
        "# score_time: tempo necessário p/ calcular cada métrica de cada divisão\n",
        "# test_score: desempenho de cada um dos modelos gerados"
      ],
      "metadata": {
        "colab": {
          "base_uri": "https://localhost:8080/"
        },
        "id": "PutD_H7Z2I6M",
        "outputId": "6257f235-3132-49fa-bff8-e75be5c404dc"
      },
      "execution_count": 702,
      "outputs": [
        {
          "output_type": "execute_result",
          "data": {
            "text/plain": [
              "{'fit_time': array([0.00827456, 0.00434661, 0.00306511, 0.00398731, 0.0030086 ]),\n",
              " 'score_time': array([0.00636554, 0.00339079, 0.00439668, 0.00383425, 0.0066185 ]),\n",
              " 'test_score': array([0.66666667, 0.625     , 0.6875    , 0.5       , 0.61111111])}"
            ]
          },
          "metadata": {},
          "execution_count": 702
        }
      ]
    },
    {
      "cell_type": "code",
      "source": [
        "calcula_intervalo(cv_resultados)"
      ],
      "metadata": {
        "colab": {
          "base_uri": "https://localhost:8080/"
        },
        "id": "8kftFddH2JBr",
        "outputId": "029d4cbc-cda7-4c2c-e022-fb52729e7bb7"
      },
      "execution_count": 703,
      "outputs": [
        {
          "output_type": "stream",
          "name": "stdout",
          "text": [
            "Intervalo de confiança: [0.4877662288937936, 0.7483448822173175]\n"
          ]
        }
      ]
    },
    {
      "cell_type": "markdown",
      "source": [
        "## **Estratificando os dados**"
      ],
      "metadata": {
        "id": "3A0p5OkS39GA"
      }
    },
    {
      "cell_type": "code",
      "source": [
        "# visualiza a porcentagem de presença de cada valor\n",
        "dados['diabetes'].value_counts(normalize = True)"
      ],
      "metadata": {
        "colab": {
          "base_uri": "https://localhost:8080/"
        },
        "id": "QdG8oHLI2JI-",
        "outputId": "9c732a5a-bfcb-457d-b66d-064af6b0e07f"
      },
      "execution_count": 704,
      "outputs": [
        {
          "output_type": "execute_result",
          "data": {
            "text/plain": [
              "diabetes\n",
              "0    0.670051\n",
              "1    0.329949\n",
              "Name: proportion, dtype: float64"
            ]
          },
          "metadata": {},
          "execution_count": 704
        }
      ]
    },
    {
      "cell_type": "code",
      "source": [
        "from sklearn.model_selection import StratifiedKFold"
      ],
      "metadata": {
        "id": "s4U5g6aI2JP9"
      },
      "execution_count": 705,
      "outputs": []
    },
    {
      "cell_type": "code",
      "source": [
        "# recriando o modelo da Árvore de Decisão\n",
        "modeloTree = DecisionTreeClassifier(max_depth = 3)\n",
        "# utiliza o K-Fold, mas de forma estratificada\n",
        "skf = StratifiedKFold(n_splits = 5, shuffle = True, random_state = 5)\n",
        "# o parâmetro \"shuffle\" é responsável por embaralhar o conjunto de dados\n",
        "\n",
        "# armazena os resultados das 5 divisões, mas apenas da métrica Recall\n",
        "cv_resultados = cross_validate(modeloTree, x, y, cv = skf, scoring = 'recall')"
      ],
      "metadata": {
        "id": "TDO74lJE2JXR"
      },
      "execution_count": 706,
      "outputs": []
    },
    {
      "cell_type": "code",
      "source": [
        "calcula_intervalo(cv_resultados)"
      ],
      "metadata": {
        "colab": {
          "base_uri": "https://localhost:8080/"
        },
        "id": "TNQO5HYp2Jer",
        "outputId": "6480b5c6-cb53-498d-9911-e82b6b69e263"
      },
      "execution_count": 707,
      "outputs": [
        {
          "output_type": "stream",
          "name": "stdout",
          "text": [
            "Intervalo de confiança: [0.4898959218511152, 0.8732619728857269]\n"
          ]
        }
      ]
    },
    {
      "cell_type": "markdown",
      "source": [
        "## **Balanceamento de Dados utilizando o Oversampling**\n",
        "\n",
        "---\n",
        "A estratégia de oversampling consiste em aumentar a quantidade de dados da classe que possui menor frequência até que tenha a mesma quantidade da classe de maior frequência. Porém, gera-se um problema caso seja gerado um overfitting (super-ajustamento) nos dados."
      ],
      "metadata": {
        "id": "qjynu3SkNpBq"
      }
    },
    {
      "cell_type": "code",
      "source": [
        "from imblearn.over_sampling import SMOTE"
      ],
      "metadata": {
        "id": "EhOHb5HWNp6u"
      },
      "execution_count": 708,
      "outputs": []
    },
    {
      "cell_type": "code",
      "source": [
        "# o SMOTE() permite geração de dados sintéticos que se aproximam do padrão já existente nos dados\n",
        "oversample = SMOTE()\n",
        "x_balanceado, y_balanceado = oversample.fit_resample(x, y)"
      ],
      "metadata": {
        "id": "9tQn0JXBNqUp"
      },
      "execution_count": 709,
      "outputs": []
    },
    {
      "cell_type": "code",
      "source": [
        "y_balanceado.value_counts(normalize = True)"
      ],
      "metadata": {
        "colab": {
          "base_uri": "https://localhost:8080/"
        },
        "id": "4490YxARNqZB",
        "outputId": "148fa8e1-63f8-4950-ee86-314667acfce3"
      },
      "execution_count": 710,
      "outputs": [
        {
          "output_type": "execute_result",
          "data": {
            "text/plain": [
              "diabetes\n",
              "0    0.5\n",
              "1    0.5\n",
              "Name: proportion, dtype: float64"
            ]
          },
          "metadata": {},
          "execution_count": 710
        }
      ]
    },
    {
      "cell_type": "code",
      "source": [
        "modeloTree = DecisionTreeClassifier(max_depth = 3)"
      ],
      "metadata": {
        "id": "Enc22X3VNqc6"
      },
      "execution_count": 711,
      "outputs": []
    },
    {
      "cell_type": "code",
      "source": [
        "skf = StratifiedKFold(n_splits = 5, shuffle = True, random_state = 5)\n",
        "cv_resultados = cross_validate(modeloTree, x_balanceado, y_balanceado, cv = skf, scoring = 'recall')"
      ],
      "metadata": {
        "id": "LywV1_g5NqhG"
      },
      "execution_count": 712,
      "outputs": []
    },
    {
      "cell_type": "code",
      "source": [
        "calcula_intervalo(cv_resultados)"
      ],
      "metadata": {
        "colab": {
          "base_uri": "https://localhost:8080/"
        },
        "id": "xYCMvt-bNqlC",
        "outputId": "c4fbdda7-9e99-4341-80e9-8a39858d679e"
      },
      "execution_count": 713,
      "outputs": [
        {
          "output_type": "stream",
          "name": "stdout",
          "text": [
            "Intervalo de confiança: [0.6483247866311087, 0.8868034184970964]\n"
          ]
        }
      ]
    },
    {
      "cell_type": "markdown",
      "source": [
        "### Conclusões do uso de Oversampling\n",
        "\n",
        "---\n",
        "O modelo agora compreende os **dados balanceados**, que resultaram em um intervalo de confiança muito bom para a métrica *Recall*. Porém, o modelo só poderá ser considerado como eficiente caso o valor de *Recall* ser tão bom também nos dados **desbalanceados**. Isso será feito abaixo, com o *Pipeline para Validação*."
      ],
      "metadata": {
        "id": "0V_xG22WOBuo"
      }
    },
    {
      "cell_type": "markdown",
      "source": [
        "## **Pipeline para Validação**"
      ],
      "metadata": {
        "id": "LXmGS0jpOEp_"
      }
    },
    {
      "cell_type": "code",
      "source": [
        "from imblearn.pipeline import Pipeline as imbpipeline # foi renomeado pois existe o pipeline também na biblioteca do scikitlearn"
      ],
      "metadata": {
        "id": "iEr1rcEvNqpB"
      },
      "execution_count": 714,
      "outputs": []
    },
    {
      "cell_type": "code",
      "source": [
        "# recriando o modelo\n",
        "modeloTree = DecisionTreeClassifier(max_depth = 3)\n",
        "# criando o pipeline a partir do modelo\n",
        "pipeline = imbpipeline([('oversample', SMOTE()), ('arvore', modeloTree)])"
      ],
      "metadata": {
        "id": "1OX_ptm5NqsN"
      },
      "execution_count": 715,
      "outputs": []
    },
    {
      "cell_type": "code",
      "source": [
        "skf = StratifiedKFold(n_splits = 5, shuffle = True, random_state = 5)\n",
        "# utiliza o pipeline (em vez do modelo) e o x e y (em vez do x_balanceado e y_balanceado), que são dados reais desbalanceados\n",
        "cv_resultados = cross_validate(pipeline, x, y, cv = skf, scoring = 'recall')"
      ],
      "metadata": {
        "id": "hISMGVu-NqvR"
      },
      "execution_count": 716,
      "outputs": []
    },
    {
      "cell_type": "code",
      "source": [
        "calcula_intervalo(cv_resultados)"
      ],
      "metadata": {
        "colab": {
          "base_uri": "https://localhost:8080/"
        },
        "id": "a4kDDAC4NqyR",
        "outputId": "3d0d652d-d167-428c-bbba-5ebf397906c9"
      },
      "execution_count": 717,
      "outputs": [
        {
          "output_type": "stream",
          "name": "stdout",
          "text": [
            "Intervalo de confiança: [0.5529527360444396, 0.8502051586924023]\n"
          ]
        }
      ]
    },
    {
      "cell_type": "markdown",
      "source": [
        "## **Balanceamento de Dados utilizando o Undersampling (já com o Pipeline para Validação)**\n",
        "\n",
        "---\n",
        "A estratégia de **undersampling** é contrária ao oversampling, e consiste em reduzir a quantidade de dados da classe que possui maior frequência até que tenha a mesma quantidade da classe de menor frequência.\n",
        "\n",
        "---\n",
        "A principal desvantagem da estratégia de **undersampling** é a de remover dados que podem ser muito importantes para o entendimento do problema, principalmente quando essa remoção é feita sem nenhum critério, como é o caso do undersampling aleatório. Por isso, aplicarei o **NearMiss**, que preserva informações importantes para a modelagem."
      ],
      "metadata": {
        "id": "GfsHTr1jOWqO"
      }
    },
    {
      "cell_type": "code",
      "source": [
        "from imblearn.under_sampling import NearMiss"
      ],
      "metadata": {
        "id": "MLrDjiQvNq8b"
      },
      "execution_count": 718,
      "outputs": []
    },
    {
      "cell_type": "code",
      "source": [
        "# recriando o modelo\n",
        "modeloTree = DecisionTreeClassifier(max_depth = 3)\n",
        "# criando o pipeline a partir do modelo\n",
        "pipeline = imbpipeline([('undersample', NearMiss(version = 3)), ('arvore', modeloTree)])"
      ],
      "metadata": {
        "id": "TYi1vxoANq_W"
      },
      "execution_count": 719,
      "outputs": []
    },
    {
      "cell_type": "code",
      "source": [
        "skf = StratifiedKFold(n_splits = 5, shuffle = True, random_state = 5)\n",
        "# utiliza o pipeline (em vez do modelo) e o x e y (em vez do x_balanceado e y_balanceado), que são dados reais desbalanceados\n",
        "cv_resultados = cross_validate(pipeline, x, y, cv = skf, scoring = 'recall')"
      ],
      "metadata": {
        "id": "6T5NW1k5Oa6b"
      },
      "execution_count": 720,
      "outputs": []
    },
    {
      "cell_type": "code",
      "source": [
        "calcula_intervalo(cv_resultados)"
      ],
      "metadata": {
        "colab": {
          "base_uri": "https://localhost:8080/"
        },
        "id": "zN80PHeBObJj",
        "outputId": "23cdfd54-0437-487a-aff6-bd817dab4d34"
      },
      "execution_count": 721,
      "outputs": [
        {
          "output_type": "stream",
          "name": "stdout",
          "text": [
            "Intervalo de confiança: [0.36696629183469137, 0.8330337081653085]\n"
          ]
        }
      ]
    },
    {
      "cell_type": "markdown",
      "source": [
        "### Conclusões do uso de Undersampling\n",
        "\n",
        "---\n",
        "O **undersampling** representou um modelo melhor para os dados, pois a métrica *Recall* alcançou os melhores valores dentre todos os modelos já testados anteriormente. Agora, devemos utilizar esse modelo final para verificar sua aplicação no conjunto de dados maior, da nossa database."
      ],
      "metadata": {
        "id": "9PDtara-Onkg"
      }
    },
    {
      "cell_type": "markdown",
      "source": [
        "## **Testando o Modelo Final**\n",
        "\n",
        "---\n",
        "Vamos balancear todo o nosso conjunto de dados. Precisamos ver como se comporta o nosso modelo com os \"dados de teste\" (separados desde o início do projeto)."
      ],
      "metadata": {
        "id": "WNPCey3_Op6t"
      }
    },
    {
      "cell_type": "code",
      "source": [
        "# utilizando o undersampling, pois foi o melhor modelo dentre os testes\n",
        "undersample = NearMiss(version = 3)\n",
        "x_balanceado, y_balanceado = undersample.fit_resample(x, y)"
      ],
      "metadata": {
        "id": "LbwTAT7KObPE"
      },
      "execution_count": 722,
      "outputs": []
    },
    {
      "cell_type": "code",
      "source": [
        "# recriando o modelo final\n",
        "modeloTree = DecisionTreeClassifier(max_depth = 3)\n",
        "# ajustando o modelo com os dados balanceados\n",
        "modeloTree.fit(x_balanceado, y_balanceado)\n",
        "# previsão feita com os dados separados para teste\n",
        "y_previsto = modeloTree.predict(x_teste)"
      ],
      "metadata": {
        "id": "PtDBCvVwObUc"
      },
      "execution_count": 723,
      "outputs": []
    },
    {
      "cell_type": "code",
      "source": [
        "# visualizando as métricas\n",
        "print(classification_report(y_teste, y_previsto))"
      ],
      "metadata": {
        "colab": {
          "base_uri": "https://localhost:8080/"
        },
        "id": "pFdioih2OxKI",
        "outputId": "c6e0b421-ddf7-4b18-af5b-75078f8b476a"
      },
      "execution_count": 724,
      "outputs": [
        {
          "output_type": "stream",
          "name": "stdout",
          "text": [
            "              precision    recall  f1-score   support\n",
            "\n",
            "           0       0.87      0.62      0.73        66\n",
            "           1       0.52      0.82      0.64        33\n",
            "\n",
            "    accuracy                           0.69        99\n",
            "   macro avg       0.70      0.72      0.68        99\n",
            "weighted avg       0.75      0.69      0.70        99\n",
            "\n"
          ]
        }
      ]
    },
    {
      "cell_type": "code",
      "source": [
        "matriz_confusao = confusion_matrix(y_teste, y_previsto)\n",
        "visualizacao = ConfusionMatrixDisplay(confusion_matrix = matriz_confusao, display_labels = ['saudável', 'diabético'])\n",
        "visualizacao.plot();"
      ],
      "metadata": {
        "colab": {
          "base_uri": "https://localhost:8080/",
          "height": 449
        },
        "id": "ZUlqjWLWOage",
        "outputId": "f2f44697-cb9d-4275-9238-5a4b6077ad5c"
      },
      "execution_count": 725,
      "outputs": [
        {
          "output_type": "display_data",
          "data": {
            "text/plain": [
              "<Figure size 640x480 with 2 Axes>"
            ],
            "image/png": "[encoded data removed]"
          },
          "metadata": {}
        }
      ]
    },
    {
      "cell_type": "markdown",
      "source": [
        "## **Conclusões**\n",
        "\n",
        "---\n",
        "O **modelo final** possui uma métrica *Recall* muito boa, se for comparada ao seu valor com outros modelos neste projeto.\n",
        "\n",
        "---\n",
        "Dessa forma, é possível verificar na matriz de confusão acima a proporção dos *Falsos Negativos* (FN) em relação ao *Verdadeiros Positivos* (VP), o que demonstra que o **modelo final** acerta a previsão mais vezes do que erra."
      ],
      "metadata": {
        "id": "BhH0GtaEUVFs"
      }
    }
  ]
}